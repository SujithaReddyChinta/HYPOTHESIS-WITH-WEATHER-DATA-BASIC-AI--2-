{
  "nbformat": 4,
  "nbformat_minor": 0,
  "metadata": {
    "colab": {
      "provenance": []
    },
    "kernelspec": {
      "name": "python3",
      "display_name": "Python 3"
    },
    "language_info": {
      "name": "python"
    }
  },
  "cells": [
    {
      "cell_type": "code",
      "metadata": {
        "id": "b8KUnO0dwJdw"
      },
      "source": [
        "import random\n",
        "import csv"
      ],
      "execution_count": null,
      "outputs": []
    },
    {
      "cell_type": "markdown",
      "metadata": {
        "id": "n_gB8ZFcyGDg"
      },
      "source": [
        "# New Section"
      ]
    },
    {
      "cell_type": "code",
      "metadata": {
        "id": "UOBeV6avwg6y"
      },
      "source": [
        "attributes = [['sunny','rainy'],\n",
        "              ['warm','cold'],\n",
        "              ['normal','high'],\n",
        "              ['strong','weak'],\n",
        "              ['warm','cool'],\n",
        "              ['same','change']]"
      ],
      "execution_count": null,
      "outputs": []
    },
    {
      "cell_type": "code",
      "metadata": {
        "id": "OGJJpotJxqLR"
      },
      "source": [
        "num_attributes = len(attributes)"
      ],
      "execution_count": null,
      "outputs": []
    },
    {
      "cell_type": "code",
      "metadata": {
        "id": "76nh9SYVxr8B"
      },
      "source": [
        "a = []"
      ],
      "execution_count": null,
      "outputs": []
    },
    {
      "cell_type": "code",
      "metadata": {
        "colab": {
          "base_uri": "https://localhost:8080/"
        },
        "id": "hrf7_RyQxsAg",
        "outputId": "6835f7c1-6a35-4c35-a7b1-d13edc8c03f3"
      },
      "source": [
        "with open('/content/book1.csv.csv', 'r') as csvFile:\n",
        "    reader = csv.reader(csvFile)\n",
        "    for row in reader:\n",
        "        a.append (row)\n",
        "        print(row)"
      ],
      "execution_count": null,
      "outputs": [
        {
          "output_type": "stream",
          "name": "stdout",
          "text": [
            "['sunny', 'warm', 'normal', 'strong', 'warm', 'same', 'yes']\n",
            "['sunny', 'warm', 'high', 'strong', 'warm', 'same', 'yes']\n",
            "['rainy', 'cold', 'high', 'strong', 'warm', 'change', 'no']\n",
            "['sunny', 'warm', 'high', 'strong', 'cool', 'change', 'yes']\n"
          ]
        }
      ]
    },
    {
      "cell_type": "code",
      "metadata": {
        "colab": {
          "base_uri": "https://localhost:8080/"
        },
        "id": "Qdkq7wjHxsDo",
        "outputId": "c6b935eb-71af-4c7f-9b85-4c1ce6144e9f"
      },
      "source": [
        "a"
      ],
      "execution_count": null,
      "outputs": [
        {
          "output_type": "execute_result",
          "data": {
            "text/plain": [
              "[['sunny', 'warm', 'normal', 'strong', 'warm', 'same', 'yes'],\n",
              " ['sunny', 'warm', 'high', 'strong', 'warm', 'same', 'yes'],\n",
              " ['rainy', 'cold', 'high', 'strong', 'warm', 'change', 'no'],\n",
              " ['sunny', 'warm', 'high', 'strong', 'cool', 'change', 'yes']]"
            ]
          },
          "metadata": {},
          "execution_count": 6
        }
      ]
    },
    {
      "cell_type": "code",
      "metadata": {
        "colab": {
          "base_uri": "https://localhost:8080/"
        },
        "id": "68YkCd_MxsGQ",
        "outputId": "3b58ccaa-b954-4edc-c73a-5ba39d2f0426"
      },
      "source": [
        "hypothesis = ['0'] * num_attributes\n",
        "print(hypothesis)"
      ],
      "execution_count": null,
      "outputs": [
        {
          "output_type": "stream",
          "name": "stdout",
          "text": [
            "['0', '0', '0', '0', '0', '0']\n"
          ]
        }
      ]
    },
    {
      "cell_type": "code",
      "metadata": {
        "id": "2JOjGx3WxsIk"
      },
      "source": [
        "for j in range(0,num_attributes):\n",
        "\n",
        "\n",
        "  hypothesis[j] = a[0][j];"
      ],
      "execution_count": null,
      "outputs": []
    },
    {
      "cell_type": "code",
      "metadata": {
        "colab": {
          "base_uri": "https://localhost:8080/"
        },
        "id": "PJor7Mmbx2IS",
        "outputId": "04d7fbe7-1d64-44b8-f8de-1a7fc2f41d3f"
      },
      "source": [
        "for i in range(0,len(a)):\n",
        "\n",
        "\n",
        "  if a[i][num_attributes]=='yes':\n",
        "\n",
        "\n",
        "    for j in range(0,num_attributes):\n",
        "\n",
        "\n",
        "\n",
        "\n",
        "      if a[i][j]!=hypothesis[j]:\n",
        "\n",
        "\n",
        "        hypothesis[j]='?'\n",
        "      else :\n",
        "\n",
        "\n",
        "        hypothesis[j]= a[i][j]\n",
        "  print(\" For Training Example No :{0} the hypothesis is \".format(i),hypothesis)"
      ],
      "execution_count": null,
      "outputs": [
        {
          "output_type": "stream",
          "name": "stdout",
          "text": [
            " For Training Example No :0 the hypothesis is  ['sunny', 'warm', 'normal', 'strong', 'warm', 'same']\n",
            " For Training Example No :1 the hypothesis is  ['sunny', 'warm', '?', 'strong', 'warm', 'same']\n",
            " For Training Example No :2 the hypothesis is  ['sunny', 'warm', '?', 'strong', 'warm', 'same']\n",
            " For Training Example No :3 the hypothesis is  ['sunny', 'warm', '?', 'strong', '?', '?']\n"
          ]
        }
      ]
    },
    {
      "cell_type": "code",
      "metadata": {
        "colab": {
          "base_uri": "https://localhost:8080/"
        },
        "id": "SasbBKNxx5j5",
        "outputId": "9b26f9f6-f72f-4d35-971b-23631abe4017"
      },
      "source": [
        "print(hypothesis)"
      ],
      "execution_count": null,
      "outputs": [
        {
          "output_type": "stream",
          "name": "stdout",
          "text": [
            "['sunny', 'warm', '?', 'strong', '?', '?']\n"
          ]
        }
      ]
    }
  ]
}